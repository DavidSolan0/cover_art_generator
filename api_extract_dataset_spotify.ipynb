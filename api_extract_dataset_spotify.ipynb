{
 "cells": [
  {
   "cell_type": "code",
   "execution_count": 2,
   "id": "5e688dd4",
   "metadata": {},
   "outputs": [],
   "source": [
    "import requests\n",
    "import json\n",
    "import shutil\n",
    "import os\n",
    "import pandas as pd\n",
    "import warnings\n",
    "warnings.filterwarnings('ignore')\n",
    "from . import config as cf\n",
    "import json"
   ]
  },
  {
   "cell_type": "code",
   "execution_count": 4,
   "id": "059cb884",
   "metadata": {},
   "outputs": [],
   "source": [
    "import time"
   ]
  },
  {
   "cell_type": "code",
   "execution_count": null,
   "id": "d6392478",
   "metadata": {},
   "outputs": [],
   "source": [
    "import spotipy\n",
    "from spotipy.oauth2 import SpotifyClientCredentials\n",
    "\n",
    "# Define client_id and client_secret using values from config\n",
    "client_id = config['client_id']\n",
    "client_secret = config['client_secret']\n",
    "\n",
    "# Create client credentials manager\n",
    "client_credentials_manager = SpotifyClientCredentials(client_id=client_id, client_secret=client_secret)\n",
    "\n",
    "# Create Spotify authentication object instance\n",
    "sp = spotipy.Spotify(client_credentials_manager=client_credentials_manager)\n",
    "\n",
    "# Function to search songs by genre\n",
    "def search_songs_by_genre(genre):\n",
    "    # Perform song search by genre\n",
    "    results = sp.search(q='genre:\"{}\"'.format(genre), type='track', limit=10)\n",
    "    print(results)\n",
    "    # Get information of the found songs\n",
    "    for track in results['tracks']['items']:\n",
    "        song_name = track['name']\n",
    "        artist_name = track['artists'][0]['name']\n",
    "        print(\"Song: {} - Artist: {}\".format(song_name, artist_name))\n",
    "\n",
    "# Example of searching songs by genre\n",
    "search_genre = 'rock'\n",
    "\n",
    "if False:\n",
    "    search_songs_by_genre(search_genre)\n"
   ]
  },
  {
   "cell_type": "code",
   "execution_count": 6,
   "id": "ac302e34",
   "metadata": {},
   "outputs": [],
   "source": [
    "import spotipy\n",
    "from spotipy.oauth2 import SpotifyClientCredentials\n",
    "\n",
    "# Define client_id\n",
    "client_id = config['client_id']\n",
    "client_secret = config['client_secret']\n",
    "\n",
    "# Crear las credenciales del cliente\n",
    "client_credentials_manager = SpotifyClientCredentials(client_id=client_id, client_secret=client_secret)\n",
    "\n",
    "# Crear una instancia del objeto de autenticación\n",
    "sp = spotipy.Spotify(client_credentials_manager=client_credentials_manager)\n",
    "\n",
    "# Función para buscar canciones por género\n",
    "def search_songs_by_genre(genre):\n",
    "    # Realizar una búsqueda de canciones por género\n",
    "    results = sp.search(q='genre:\"{}\"'.format(genre), type='track', limit=10)\n",
    "    print(results)\n",
    "    # Obtener información de las canciones encontradas\n",
    "    for track in results['tracks']['items']:\n",
    "        song_name = track['name']\n",
    "        artist_name = track['artists'][0]['name']\n",
    "        print(\"Canción: {} - Artista: {}\".format(song_name, artist_name))\n",
    "\n",
    "# Ejemplo de búsqueda de canciones por género\n",
    "search_genre = 'rock'\n",
    "\n",
    "if False:\n",
    "    search_songs_by_genre(search_genre)\n"
   ]
  },
  {
   "cell_type": "code",
   "execution_count": 7,
   "id": "0d2b2d40",
   "metadata": {},
   "outputs": [],
   "source": [
    "def token_api(client_id, client_secret):\n",
    "    # Define los parámetros de la solicitud de token\n",
    "    token_url = \"https://accounts.spotify.com/api/token\"\n",
    "    data = {\n",
    "        \"grant_type\": \"client_credentials\",\n",
    "        \"client_id\": client_id,\n",
    "        \"client_secret\": client_secret\n",
    "    }\n",
    "\n",
    "    # Envía la solicitud de token\n",
    "    response = requests.post(token_url, data=data)\n",
    "\n",
    "    # Verifica el código de estado de la respuesta\n",
    "    if response.status_code == 200:\n",
    "        # Obtiene el token de acceso de la respuesta JSON\n",
    "        token = response.json().get(\"access_token\")\n",
    "        # Utiliza el token para realizar solicitudes a la API de Spotify\n",
    "        # Aquí puedes incluir tus solicitudes a la API utilizando el token obtenido\n",
    "    else:\n",
    "        # Si la solicitud no fue exitosa, muestra el código de estado y el mensaje de error\n",
    "        print(\"Error al obtener el token de acceso. Código de estado:\", response.status_code)\n",
    "        print(\"Mensaje de error:\", response.json().get(\"error_description\"))\n",
    "    return token    "
   ]
  },
  {
   "cell_type": "code",
   "execution_count": 8,
   "id": "451ab68e",
   "metadata": {},
   "outputs": [],
   "source": [
    "get_token = True"
   ]
  },
  {
   "cell_type": "code",
   "execution_count": 9,
   "id": "4b900932",
   "metadata": {},
   "outputs": [],
   "source": [
    "if get_token:\n",
    "    token = token_api(client_id, client_secret)"
   ]
  },
  {
   "cell_type": "code",
   "execution_count": 10,
   "id": "d51e0b1b",
   "metadata": {},
   "outputs": [
    {
     "data": {
      "text/plain": [
       "'BQDu6VJZc_FZ-tBbmFkJ74RWsfPWx_ftLZRFgzgS5j-MjiX0YfGLqq4wRLOdP7xGwr46h8r-e_VEz4T0RKjNxXSagu8QvoDlwdN_lo-9LhO7KigZsxM'"
      ]
     },
     "execution_count": 10,
     "metadata": {},
     "output_type": "execute_result"
    }
   ],
   "source": [
    "token"
   ]
  },
  {
   "cell_type": "code",
   "execution_count": 11,
   "id": "bfd3a343",
   "metadata": {},
   "outputs": [],
   "source": [
    "# Crear las carpetas si no existen\n",
    "#os.makedirs(\"covers_album\", exist_ok=True)\n",
    "#os.makedirs(\"audio_tracks\", exist_ok=True)\n",
    "\n",
    "# Crear un DataFrame para almacenar los datos\n",
    "new = False\n",
    "if new:\n",
    "    df = pd.DataFrame(columns=[\"Audio ID\", \"Cover ID\", \"audio_analysis\", \"album_information\", \"audio_features\"])\n",
    "else:\n",
    "    df = pd.read_csv('./audio_and_covers 6.62.csv')"
   ]
  },
  {
   "cell_type": "code",
   "execution_count": 12,
   "id": "c0d6885c",
   "metadata": {},
   "outputs": [
    {
     "data": {
      "text/plain": [
       "(39949, 5)"
      ]
     },
     "execution_count": 12,
     "metadata": {},
     "output_type": "execute_result"
    }
   ],
   "source": [
    "df.shape"
   ]
  },
  {
   "cell_type": "code",
   "execution_count": 13,
   "id": "2296184e",
   "metadata": {},
   "outputs": [
    {
     "data": {
      "text/plain": [
       "audio_analysis\n",
       "Focus               5509\n",
       "Romance             3440\n",
       "Chill               3380\n",
       "Decades             2739\n",
       "Mood                2631\n",
       "Indie               2473\n",
       "Latina              2273\n",
       "Pop                 2169\n",
       "At Home             1999\n",
       "Workout             1954\n",
       "Rock                1850\n",
       "Dance/Electronic    1843\n",
       "Alternative         1840\n",
       "Party               1620\n",
       "Latin               1479\n",
       "Hip-Hop             1208\n",
       "Flamenco            1027\n",
       "Listas de éxitos     295\n",
       "Top Lists            220\n",
       "Name: count, dtype: int64"
      ]
     },
     "execution_count": 13,
     "metadata": {},
     "output_type": "execute_result"
    }
   ],
   "source": [
    "df['audio_analysis'].value_counts()"
   ]
  },
  {
   "cell_type": "code",
   "execution_count": 14,
   "id": "15b33748",
   "metadata": {},
   "outputs": [
    {
     "data": {
      "text/plain": [
       "['Pop',\n",
       " 'Focus',\n",
       " 'Latina',\n",
       " 'Hip-Hop',\n",
       " 'Decades',\n",
       " 'Party',\n",
       " 'Indie',\n",
       " 'Chill',\n",
       " 'Rock',\n",
       " 'Dance/Electronic',\n",
       " 'Mood',\n",
       " 'Latin',\n",
       " 'Romance',\n",
       " 'Listas de éxitos',\n",
       " 'Alternative',\n",
       " 'Flamenco',\n",
       " 'Top Lists',\n",
       " 'Workout',\n",
       " 'At Home']"
      ]
     },
     "execution_count": 14,
     "metadata": {},
     "output_type": "execute_result"
    }
   ],
   "source": [
    "listss = set(df['audio_analysis'].tolist())\n",
    "list(listss)"
   ]
  },
  {
   "cell_type": "code",
   "execution_count": 15,
   "id": "804834a6",
   "metadata": {},
   "outputs": [],
   "source": [
    "removeit = False\n",
    "if removeit:\n",
    "    listss.remove('Chill')\n",
    "    listss.remove('Focus')"
   ]
  },
  {
   "cell_type": "code",
   "execution_count": 16,
   "id": "c75eb8be",
   "metadata": {},
   "outputs": [
    {
     "data": {
      "text/plain": [
       "{'Alternative',\n",
       " 'At Home',\n",
       " 'Chill',\n",
       " 'Dance/Electronic',\n",
       " 'Decades',\n",
       " 'Flamenco',\n",
       " 'Focus',\n",
       " 'Hip-Hop',\n",
       " 'Indie',\n",
       " 'Latin',\n",
       " 'Latina',\n",
       " 'Listas de éxitos',\n",
       " 'Mood',\n",
       " 'Party',\n",
       " 'Pop',\n",
       " 'Rock',\n",
       " 'Romance',\n",
       " 'Top Lists',\n",
       " 'Workout'}"
      ]
     },
     "execution_count": 16,
     "metadata": {},
     "output_type": "execute_result"
    }
   ],
   "source": [
    "listss"
   ]
  },
  {
   "cell_type": "code",
   "execution_count": 17,
   "id": "7ae56e14",
   "metadata": {},
   "outputs": [
    {
     "data": {
      "text/plain": [
       "Index(['Audio ID', 'Cover ID', 'audio_analysis', 'album_information',\n",
       "       'audio_features'],\n",
       "      dtype='object')"
      ]
     },
     "execution_count": 17,
     "metadata": {},
     "output_type": "execute_result"
    }
   ],
   "source": [
    "df.columns"
   ]
  },
  {
   "cell_type": "code",
   "execution_count": 18,
   "id": "60fcd9a0",
   "metadata": {},
   "outputs": [],
   "source": [
    "#headers = {\"Content-Type\": \"application/json\", \"Authorization\": \"Bearer %s\" % token, \"Accept\": \"application/json\"}\n",
    "headers = {\"Content-Type\": \"application/json\", \"Authorization\": \"Bearer %s\" % token, \"Accept\": \"application/json\"}\n",
    "params = {'limit':50}\n",
    "response = json.loads(requests.get(\"https://api.spotify.com/v1/browse/categories\", headers=headers, params=params).content)"
   ]
  },
  {
   "cell_type": "code",
   "execution_count": 19,
   "id": "3451912c",
   "metadata": {},
   "outputs": [
    {
     "data": {
      "text/plain": [
       "{'categories': {'href': 'https://api.spotify.com/v1/browse/categories?country=ES&offset=0&limit=50',\n",
       "  'items': [{'href': 'https://api.spotify.com/v1/browse/categories/toplists',\n",
       "    'icons': [{'height': 275,\n",
       "      'url': 'https://t.scdn.co/media/derived/toplists_11160599e6a04ac5d6f2757f5511778f_0_0_275_275.jpg',\n",
       "      'width': 275}],\n",
       "    'id': 'toplists',\n",
       "    'name': 'Top Lists'},\n",
       "   {'href': 'https://api.spotify.com/v1/browse/categories/0JQ5DAqbMKFxXaXKP7zcDp',\n",
       "    'icons': [{'height': None,\n",
       "      'url': 'https://t.scdn.co/images/26a60378-a374-4cd7-b894-28efa5e154cb.jpg',\n",
       "      'width': None}],\n",
       "    'id': '0JQ5DAqbMKFxXaXKP7zcDp',\n",
       "    'name': 'Latin'},\n",
       "   {'href': 'https://api.spotify.com/v1/browse/categories/0JQ5DAqbMKFzHmL4tf05da',\n",
       "    'icons': [{'height': 274,\n",
       "      'url': 'https://t.scdn.co/media/original/mood-274x274_976986a31ac8c49794cbdc7246fd5ad7_274x274.jpg',\n",
       "      'width': 274}],\n",
       "    'id': '0JQ5DAqbMKFzHmL4tf05da',\n",
       "    'name': 'Mood'},\n",
       "   {'href': 'https://api.spotify.com/v1/browse/categories/0JQ5DAqbMKFEC4WFtoNRpw',\n",
       "    'icons': [{'height': 274,\n",
       "      'url': 'https://t.scdn.co/media/derived/pop-274x274_447148649685019f5e2a03a39e78ba52_0_0_274_274.jpg',\n",
       "      'width': 274}],\n",
       "    'id': '0JQ5DAqbMKFEC4WFtoNRpw',\n",
       "    'name': 'Pop'},\n",
       "   {'href': 'https://api.spotify.com/v1/browse/categories/0JQ5DAqbMKFQFQN0rnK48G',\n",
       "    'icons': [{'height': None,\n",
       "      'url': 'https://t.scdn.co/images/37780cd0347248e38195515fc7ca061a.jpeg',\n",
       "      'width': None}],\n",
       "    'id': '0JQ5DAqbMKFQFQN0rnK48G',\n",
       "    'name': 'Flamenco'},\n",
       "   {'href': 'https://api.spotify.com/v1/browse/categories/0JQ5DAqbMKFFzDl7qN9Apr',\n",
       "    'icons': [{'height': 274,\n",
       "      'url': 'https://t.scdn.co/media/derived/chill-274x274_4c46374f007813dd10b37e8d8fd35b4b_0_0_274_274.jpg',\n",
       "      'width': 274}],\n",
       "    'id': '0JQ5DAqbMKFFzDl7qN9Apr',\n",
       "    'name': 'Chill'},\n",
       "   {'href': 'https://api.spotify.com/v1/browse/categories/0JQ5DAqbMKFDXXwE9BDJAr',\n",
       "    'icons': [{'height': 274,\n",
       "      'url': 'https://t.scdn.co/media/derived/rock_9ce79e0a4ef901bbd10494f5b855d3cc_0_0_274_274.jpg',\n",
       "      'width': 274}],\n",
       "    'id': '0JQ5DAqbMKFDXXwE9BDJAr',\n",
       "    'name': 'Rock'},\n",
       "   {'href': 'https://api.spotify.com/v1/browse/categories/0JQ5DAqbMKFAXlCG6QvYQ4',\n",
       "    'icons': [{'height': None,\n",
       "      'url': 'https://t.scdn.co/media/links/workout-274x274.jpg',\n",
       "      'width': None}],\n",
       "    'id': '0JQ5DAqbMKFAXlCG6QvYQ4',\n",
       "    'name': 'Workout'},\n",
       "   {'href': 'https://api.spotify.com/v1/browse/categories/0JQ5DAqbMKFQ00XGBls6ym',\n",
       "    'icons': [{'height': 274,\n",
       "      'url': 'https://t.scdn.co/media/original/hip-274_0a661854d61e29eace5fe63f73495e68_274x274.jpg',\n",
       "      'width': 274}],\n",
       "    'id': '0JQ5DAqbMKFQ00XGBls6ym',\n",
       "    'name': 'Hip-Hop'},\n",
       "   {'href': 'https://api.spotify.com/v1/browse/categories/0JQ5DAqbMKFHOzuVTgTizF',\n",
       "    'icons': [{'height': 274,\n",
       "      'url': 'https://t.scdn.co/media/derived/edm-274x274_0ef612604200a9c14995432994455a6d_0_0_274_274.jpg',\n",
       "      'width': 274}],\n",
       "    'id': '0JQ5DAqbMKFHOzuVTgTizF',\n",
       "    'name': 'Dance/Electronic'},\n",
       "   {'href': 'https://api.spotify.com/v1/browse/categories/0JQ5DAqbMKFCbimwdOYlsl',\n",
       "    'icons': [{'height': 274,\n",
       "      'url': 'https://t.scdn.co/media/original/genre-images-square-274x274_5e50d72b846a198fcd2ca9b3aef5f0c8_274x274.jpg',\n",
       "      'width': 274}],\n",
       "    'id': '0JQ5DAqbMKFCbimwdOYlsl',\n",
       "    'name': 'Focus'},\n",
       "   {'href': 'https://api.spotify.com/v1/browse/categories/0JQ5DAqbMKFCWjUTdzaG0e',\n",
       "    'icons': [{'height': None,\n",
       "      'url': 'https://t.scdn.co/images/fe06caf056474bc58862591cd60b57fc.jpeg',\n",
       "      'width': None}],\n",
       "    'id': '0JQ5DAqbMKFCWjUTdzaG0e',\n",
       "    'name': 'Indie'},\n",
       "   {'href': 'https://api.spotify.com/v1/browse/categories/0JQ5DAqbMKFx0uLQR2okcc',\n",
       "    'icons': [{'height': None,\n",
       "      'url': 'https://t.scdn.co/images/04da469dd7be4dab96659aa1fa9f0ac9.jpeg',\n",
       "      'width': None}],\n",
       "    'id': '0JQ5DAqbMKFx0uLQR2okcc',\n",
       "    'name': 'At Home'},\n",
       "   {'href': 'https://api.spotify.com/v1/browse/categories/0JQ5DAqbMKFFtlLYUHv8bT',\n",
       "    'icons': [{'height': None,\n",
       "      'url': 'https://t.scdn.co/images/ee9451b3ed474c82b1da8f9b5eafc88f.jpeg',\n",
       "      'width': None}],\n",
       "    'id': '0JQ5DAqbMKFFtlLYUHv8bT',\n",
       "    'name': 'Alternative'},\n",
       "   {'href': 'https://api.spotify.com/v1/browse/categories/0JQ5DAqbMKFIVNxQgRNSg0',\n",
       "    'icons': [{'height': None,\n",
       "      'url': 'https://t.scdn.co/images/b611cf5145764c64b80e91ccd5f357c8',\n",
       "      'width': None}],\n",
       "    'id': '0JQ5DAqbMKFIVNxQgRNSg0',\n",
       "    'name': 'Decades'},\n",
       "   {'href': 'https://api.spotify.com/v1/browse/categories/0JQ5DAqbMKFA6SOHvT3gck',\n",
       "    'icons': [{'height': None,\n",
       "      'url': 'https://t.scdn.co/images/fada056dcfd54cd28faf80d62b7059c6.jpeg',\n",
       "      'width': None}],\n",
       "    'id': '0JQ5DAqbMKFA6SOHvT3gck',\n",
       "    'name': 'Party'},\n",
       "   {'href': 'https://api.spotify.com/v1/browse/categories/0JQ5DAqbMKFAUsdyVjCQuL',\n",
       "    'icons': [{'height': 274,\n",
       "      'url': 'https://t.scdn.co/media/derived/romance-274x274_8100794c94847b6d27858bed6fa4d91b_0_0_274_274.jpg',\n",
       "      'width': 274}],\n",
       "    'id': '0JQ5DAqbMKFAUsdyVjCQuL',\n",
       "    'name': 'Romance'},\n",
       "   {'href': 'https://api.spotify.com/v1/browse/categories/0JQ5DAqbMKFy78wprEpAjl',\n",
       "    'icons': [{'height': None,\n",
       "      'url': 'https://t.scdn.co/images/7fe0f2c9c91f45a3b6bae49d298201a4.jpeg',\n",
       "      'width': None}],\n",
       "    'id': '0JQ5DAqbMKFy78wprEpAjl',\n",
       "    'name': 'Folk & Acoustic'},\n",
       "   {'href': 'https://api.spotify.com/v1/browse/categories/0JQ5DAqbMKFIRybaNTYXXy',\n",
       "    'icons': [{'height': None,\n",
       "      'url': 'https://t.scdn.co/images/57017d435c344bb28efba325b7c9e7c6.jpeg',\n",
       "      'width': None}],\n",
       "    'id': '0JQ5DAqbMKFIRybaNTYXXy',\n",
       "    'name': 'In the car'},\n",
       "   {'href': 'https://api.spotify.com/v1/browse/categories/0JQ5DAqbMKFJw7QLnM27p6',\n",
       "    'icons': [{'height': None,\n",
       "      'url': 'https://t.scdn.co/images/67a216e1e07144f889d366fed5c325bc.jpeg',\n",
       "      'width': None}],\n",
       "    'id': '0JQ5DAqbMKFJw7QLnM27p6',\n",
       "    'name': 'Student'},\n",
       "   {'href': 'https://api.spotify.com/v1/browse/categories/0JQ5DAqbMKFCfObibaOZbv',\n",
       "    'icons': [{'height': None,\n",
       "      'url': 'https://t.scdn.co/images/0d39395309ba47838ef12ce987f19d16.jpeg',\n",
       "      'width': None}],\n",
       "    'id': '0JQ5DAqbMKFCfObibaOZbv',\n",
       "    'name': 'Gaming'},\n",
       "   {'href': 'https://api.spotify.com/v1/browse/categories/0JQ5DAqbMKFEZPnFQSFB1T',\n",
       "    'icons': [{'height': 274,\n",
       "      'url': 'https://t.scdn.co/media/derived/r-b-274x274_fd56efa72f4f63764b011b68121581d8_0_0_274_274.jpg',\n",
       "      'width': 274}],\n",
       "    'id': '0JQ5DAqbMKFEZPnFQSFB1T',\n",
       "    'name': 'R&B'},\n",
       "   {'href': 'https://api.spotify.com/v1/browse/categories/0JQ5DAqbMKFRKBHIxJ5hMm',\n",
       "    'icons': [{'height': None,\n",
       "      'url': 'https://t.scdn.co/images/b4182906bf244b4994805084c057e9ee.jpeg',\n",
       "      'width': None}],\n",
       "    'id': '0JQ5DAqbMKFRKBHIxJ5hMm',\n",
       "    'name': 'Tastemakers'},\n",
       "   {'href': 'https://api.spotify.com/v1/browse/categories/0JQ5DAqbMKFRieVZLLoo9m',\n",
       "    'icons': [{'height': None,\n",
       "      'url': 'https://t.scdn.co/images/384c2b595a1648aa801837ff99961188',\n",
       "      'width': None}],\n",
       "    'id': '0JQ5DAqbMKFRieVZLLoo9m',\n",
       "    'name': 'Instrumental'},\n",
       "   {'href': 'https://api.spotify.com/v1/browse/categories/0JQ5DAqbMKFLb2EqgLtpjC',\n",
       "    'icons': [{'height': None,\n",
       "      'url': 'https://t.scdn.co/images/3710b68657574bc79df14bd74629e5ac',\n",
       "      'width': None}],\n",
       "    'id': '0JQ5DAqbMKFLb2EqgLtpjC',\n",
       "    'name': 'Wellness'},\n",
       "   {'href': 'https://api.spotify.com/v1/browse/categories/0JQ5DAqbMKFCuoRTxhYWow',\n",
       "    'icons': [{'height': 274,\n",
       "      'url': 'https://t.scdn.co/media/derived/sleep-274x274_0d4f836af8fab7bf31526968073e671c_0_0_274_274.jpg',\n",
       "      'width': 274}],\n",
       "    'id': '0JQ5DAqbMKFCuoRTxhYWow',\n",
       "    'name': 'Sleep'},\n",
       "   {'href': 'https://api.spotify.com/v1/browse/categories/0JQ5DAqbMKFAJ5xb0fwo9m',\n",
       "    'icons': [{'height': None,\n",
       "      'url': 'https://t.scdn.co/images/568f37f1cab54136939d63bd1f59d40c',\n",
       "      'width': None}],\n",
       "    'id': '0JQ5DAqbMKFAJ5xb0fwo9m',\n",
       "    'name': 'Jazz'},\n",
       "   {'href': 'https://api.spotify.com/v1/browse/categories/0JQ5DAqbMKFPrEiAOxgac3',\n",
       "    'icons': [{'height': 274,\n",
       "      'url': 'https://t.scdn.co/media/derived/classical-274x274_abf78251ff3d90d2ceaf029253ca7cb4_0_0_274_274.jpg',\n",
       "      'width': 274}],\n",
       "    'id': '0JQ5DAqbMKFPrEiAOxgac3',\n",
       "    'name': 'Classical'},\n",
       "   {'href': 'https://api.spotify.com/v1/browse/categories/0JQ5DAqbMKFIpEuaCnimBj',\n",
       "    'icons': [{'height': 274,\n",
       "      'url': 'https://t.scdn.co/media/derived/soul-274x274_266bc900b35dda8956380cffc73a4d8c_0_0_274_274.jpg',\n",
       "      'width': 274}],\n",
       "    'id': '0JQ5DAqbMKFIpEuaCnimBj',\n",
       "    'name': 'Soul'},\n",
       "   {'href': 'https://api.spotify.com/v1/browse/categories/0JQ5DAqbMKFObNLOHydSW8',\n",
       "    'icons': [{'height': None,\n",
       "      'url': 'https://t.scdn.co/images/495fadcefe234607b14b2db3381f3f5d.jpeg',\n",
       "      'width': None}],\n",
       "    'id': '0JQ5DAqbMKFObNLOHydSW8',\n",
       "    'name': 'Caribbean'},\n",
       "   {'href': 'https://api.spotify.com/v1/browse/categories/0JQ5DAqbMKFOOxftoKZxod',\n",
       "    'icons': [{'height': None,\n",
       "      'url': 'https://t.scdn.co/images/c6677aa51acf4121b66b9d1f231bd427.png',\n",
       "      'width': None}],\n",
       "    'id': '0JQ5DAqbMKFOOxftoKZxod',\n",
       "    'name': 'RADAR'},\n",
       "   {'href': 'https://api.spotify.com/v1/browse/categories/0JQ5DAqbMKFPw634sFwguI',\n",
       "    'icons': [{'height': None,\n",
       "      'url': 'https://t.scdn.co/images/084155aeaa724ea1bd393a017d67b709',\n",
       "      'width': None}],\n",
       "    'id': '0JQ5DAqbMKFPw634sFwguI',\n",
       "    'name': 'EQUAL'},\n",
       "   {'href': 'https://api.spotify.com/v1/browse/categories/0JQ5DAqbMKFF9bY76LXmfI',\n",
       "    'icons': [{'height': None,\n",
       "      'url': 'https://t.scdn.co/images/cad629fb65a14de4beddb38510e27cb1',\n",
       "      'width': None}],\n",
       "    'id': '0JQ5DAqbMKFF9bY76LXmfI',\n",
       "    'name': 'Frequency'},\n",
       "   {'href': 'https://api.spotify.com/v1/browse/categories/0JQ5DAqbMKFGvOw3O4nLAf',\n",
       "    'icons': [{'height': None,\n",
       "      'url': 'https://t.scdn.co/images/2078afd91e4d431eb19efc5bee5ab131.jpeg',\n",
       "      'width': None}],\n",
       "    'id': '0JQ5DAqbMKFGvOw3O4nLAf',\n",
       "    'name': 'K-Pop'},\n",
       "   {'href': 'https://api.spotify.com/v1/browse/categories/0JQ5DAqbMKFAjfauKLOZiv',\n",
       "    'icons': [{'height': 274,\n",
       "      'url': 'https://t.scdn.co/media/derived/punk-274x274_f3f1528ea7bbb60a625da13e3315a40b_0_0_274_274.jpg',\n",
       "      'width': 274}],\n",
       "    'id': '0JQ5DAqbMKFAjfauKLOZiv',\n",
       "    'name': 'Punk'},\n",
       "   {'href': 'https://api.spotify.com/v1/browse/categories/0JQ5DAqbMKFRY5ok2pxXJ0',\n",
       "    'icons': [{'height': 274,\n",
       "      'url': 'https://t.scdn.co/media/original/dinner_1b6506abba0ba52c54e6d695c8571078_274x274.jpg',\n",
       "      'width': 274}],\n",
       "    'id': '0JQ5DAqbMKFRY5ok2pxXJ0',\n",
       "    'name': 'Cooking & Dining'},\n",
       "   {'href': 'https://api.spotify.com/v1/browse/categories/0JQ5DAqbMKFDkd668ypn6O',\n",
       "    'icons': [{'height': 274,\n",
       "      'url': 'https://t.scdn.co/media/original/metal_27c921443fd0a5ba95b1b2c2ae654b2b_274x274.jpg',\n",
       "      'width': 274}],\n",
       "    'id': '0JQ5DAqbMKFDkd668ypn6O',\n",
       "    'name': 'Metal'},\n",
       "   {'href': 'https://api.spotify.com/v1/browse/categories/0JQ5DAqbMKFFoimhOqWzLB',\n",
       "    'icons': [{'height': None,\n",
       "      'url': 'https://t.scdn.co/images/664bb84f7a774e1eadb7c227aed98f3c',\n",
       "      'width': None}],\n",
       "    'id': '0JQ5DAqbMKFFoimhOqWzLB',\n",
       "    'name': 'Kids & Family'},\n",
       "   {'href': 'https://api.spotify.com/v1/browse/categories/0JQ5DAqbMKFAQy4HL4XU2D',\n",
       "    'icons': [{'height': 274,\n",
       "      'url': 'https://t.scdn.co/media/derived/travel-274x274_1e89cd5b42cf8bd2ff8fc4fb26f2e955_0_0_274_274.jpg',\n",
       "      'width': 274}],\n",
       "    'id': '0JQ5DAqbMKFAQy4HL4XU2D',\n",
       "    'name': 'Travel'},\n",
       "   {'href': 'https://api.spotify.com/v1/browse/categories/0JQ5DAqbMKFQIL0AXnG5AK',\n",
       "    'icons': [{'height': 274,\n",
       "      'url': 'https://t.scdn.co/media/derived/trending-274x274_7b238f7217985e79d3664f2734347b98_0_0_274_274.jpg',\n",
       "      'width': 274}],\n",
       "    'id': '0JQ5DAqbMKFQIL0AXnG5AK',\n",
       "    'name': 'Trending'},\n",
       "   {'href': 'https://api.spotify.com/v1/browse/categories/0JQ5DAqbMKFQiK2EHwyjcU',\n",
       "    'icons': [{'height': None,\n",
       "      'url': 'https://t.scdn.co/images/6fe5cd3ebc8c4db7bb8013152b153505',\n",
       "      'width': None}],\n",
       "    'id': '0JQ5DAqbMKFQiK2EHwyjcU',\n",
       "    'name': 'Blues'},\n",
       "   {'href': 'https://api.spotify.com/v1/browse/categories/funk',\n",
       "    'icons': [{'height': None,\n",
       "      'url': 'https://t.scdn.co/images/f4f0987fcab446fcaa7173acb5e25701.jpeg',\n",
       "      'width': None}],\n",
       "    'id': 'funk',\n",
       "    'name': 'Funk'},\n",
       "   {'href': 'https://api.spotify.com/v1/browse/categories/0JQ5DAqbMKFKLfwjuJMoNC',\n",
       "    'icons': [{'height': None,\n",
       "      'url': 'https://t.scdn.co/images/a2e0ebe2ebed4566ba1d8236b869241f.jpeg',\n",
       "      'width': None}],\n",
       "    'id': '0JQ5DAqbMKFKLfwjuJMoNC',\n",
       "    'name': 'Country'},\n",
       "   {'href': 'https://api.spotify.com/v1/browse/categories/0JQ5DAqbMKFLjmiZRss79w',\n",
       "    'icons': [{'height': None,\n",
       "      'url': 'https://t.scdn.co/images/9210c5a26e6a4b4da2c3ea8e5f87fff8',\n",
       "      'width': None}],\n",
       "    'id': '0JQ5DAqbMKFLjmiZRss79w',\n",
       "    'name': 'Ambient'},\n",
       "   {'href': 'https://api.spotify.com/v1/browse/categories/0JQ5DAqbMKFy0OenPG51Av',\n",
       "    'icons': [{'height': 274,\n",
       "      'url': 'https://t.scdn.co/media/derived/icon-274x274_5ce6e0f681f0a76f9dcf9270dfd18489_0_0_274_274.jpg',\n",
       "      'width': 274}],\n",
       "    'id': '0JQ5DAqbMKFy0OenPG51Av',\n",
       "    'name': 'Christian & Gospel'},\n",
       "   {'href': 'https://api.spotify.com/v1/browse/categories/0JQ5DAqbMKFDTEtSaS4R92',\n",
       "    'icons': [{'height': None,\n",
       "      'url': 'https://t.scdn.co/images/c765fa1ce6994fce8796d2d0d93c1e61.jpeg',\n",
       "      'width': None}],\n",
       "    'id': '0JQ5DAqbMKFDTEtSaS4R92',\n",
       "    'name': 'Regional Mexican'},\n",
       "   {'href': 'https://api.spotify.com/v1/browse/categories/0JQ5DAqbMKFImHYGo3eTSg',\n",
       "    'icons': [{'height': None,\n",
       "      'url': 'https://t.scdn.co/images/16e40e64d2a74fa8a0a020d456e6541d.jpeg',\n",
       "      'width': None}],\n",
       "    'id': '0JQ5DAqbMKFImHYGo3eTSg',\n",
       "    'name': 'Fresh Finds'}],\n",
       "  'limit': 50,\n",
       "  'next': None,\n",
       "  'offset': 0,\n",
       "  'previous': None,\n",
       "  'total': 47}}"
      ]
     },
     "execution_count": 19,
     "metadata": {},
     "output_type": "execute_result"
    }
   ],
   "source": [
    "response"
   ]
  },
  {
   "cell_type": "code",
   "execution_count": 20,
   "id": "d9b57a90",
   "metadata": {},
   "outputs": [],
   "source": [
    "if response == {'error': {'status': 401, 'message': 'The access token expired'}}:\n",
    "    print('fasdas')"
   ]
  },
  {
   "cell_type": "code",
   "execution_count": 21,
   "id": "f24d7349",
   "metadata": {},
   "outputs": [],
   "source": [
    "headers = {\"Content-Type\": \"application/json\", \"Authorization\": \"Bearer %s\" % token, \"Accept\": \"application/json\"}"
   ]
  },
  {
   "cell_type": "code",
   "execution_count": 22,
   "id": "dcf9e51e",
   "metadata": {},
   "outputs": [
    {
     "data": {
      "text/plain": [
       "b'{\\n  \"album_type\" : \"single\",\\n  \"artists\" : [ {\\n    \"external_urls\" : {\\n      \"spotify\" : \"https://open.spotify.com/artist/37awA8DFCAnCCL7aqYbDnD\"\\n    },\\n    \"href\" : \"https://api.spotify.com/v1/artists/37awA8DFCAnCCL7aqYbDnD\",\\n    \"id\" : \"37awA8DFCAnCCL7aqYbDnD\",\\n    \"name\" : \"Blasterjaxx\",\\n    \"type\" : \"artist\",\\n    \"uri\" : \"spotify:artist:37awA8DFCAnCCL7aqYbDnD\"\\n  }, {\\n    \"external_urls\" : {\\n      \"spotify\" : \"https://open.spotify.com/artist/3iMzbvXlgNUpoFccD60bvr\"\\n    },\\n    \"href\" : \"https://api.spotify.com/v1/artists/3iMzbvXlgNUpoFccD60bvr\",\\n    \"id\" : \"3iMzbvXlgNUpoFccD60bvr\",\\n    \"name\" : \"Prezioso\",\\n    \"type\" : \"artist\",\\n    \"uri\" : \"spotify:artist:3iMzbvXlgNUpoFccD60bvr\"\\n  }, {\\n    \"external_urls\" : {\\n      \"spotify\" : \"https://open.spotify.com/artist/12A83CWwFiyXy90ScLWPIe\"\\n    },\\n    \"href\" : \"https://api.spotify.com/v1/artists/12A83CWwFiyXy90ScLWPIe\",\\n    \"id\" : \"12A83CWwFiyXy90ScLWPIe\",\\n    \"name\" : \"LIZOT\",\\n    \"type\" : \"artist\",\\n    \"uri\" : \"spotify:artist:12A83CWwFiyXy90ScLWPIe\"\\n  } ],\\n  \"available_markets\" : [ \"AD\", \"AE\", \"AG\", \"AL\", \"AM\", \"AO\", \"AR\", \"AT\", \"AU\", \"AZ\", \"BA\", \"BB\", \"BD\", \"BE\", \"BF\", \"BG\", \"BH\", \"BI\", \"BJ\", \"BN\", \"BO\", \"BR\", \"BS\", \"BT\", \"BW\", \"BZ\", \"CA\", \"CD\", \"CG\", \"CH\", \"CI\", \"CL\", \"CM\", \"CO\", \"CR\", \"CV\", \"CW\", \"CY\", \"CZ\", \"DE\", \"DJ\", \"DK\", \"DM\", \"DO\", \"DZ\", \"EC\", \"EE\", \"EG\", \"ES\", \"ET\", \"FI\", \"FJ\", \"FM\", \"FR\", \"GA\", \"GB\", \"GD\", \"GE\", \"GH\", \"GM\", \"GN\", \"GQ\", \"GR\", \"GT\", \"GW\", \"GY\", \"HK\", \"HN\", \"HR\", \"HT\", \"HU\", \"ID\", \"IE\", \"IL\", \"IN\", \"IQ\", \"IS\", \"JM\", \"JO\", \"JP\", \"KE\", \"KG\", \"KH\", \"KI\", \"KM\", \"KN\", \"KR\", \"KW\", \"KZ\", \"LA\", \"LB\", \"LC\", \"LI\", \"LK\", \"LR\", \"LS\", \"LT\", \"LU\", \"LV\", \"LY\", \"MA\", \"MC\", \"MD\", \"ME\", \"MG\", \"MH\", \"MK\", \"ML\", \"MN\", \"MO\", \"MR\", \"MT\", \"MU\", \"MV\", \"MW\", \"MX\", \"MY\", \"MZ\", \"NA\", \"NE\", \"NG\", \"NI\", \"NL\", \"NO\", \"NP\", \"NR\", \"NZ\", \"OM\", \"PA\", \"PE\", \"PG\", \"PH\", \"PK\", \"PL\", \"PS\", \"PT\", \"PW\", \"PY\", \"QA\", \"RO\", \"RS\", \"RW\", \"SA\", \"SB\", \"SC\", \"SE\", \"SG\", \"SI\", \"SK\", \"SL\", \"SN\", \"SR\", \"ST\", \"SV\", \"SZ\", \"TD\", \"TG\", \"TH\", \"TJ\", \"TL\", \"TN\", \"TO\", \"TR\", \"TT\", \"TV\", \"TW\", \"TZ\", \"UA\", \"UG\", \"US\", \"UY\", \"UZ\", \"VC\", \"VE\", \"VN\", \"VU\", \"WS\", \"XK\", \"ZA\", \"ZM\", \"ZW\" ],\\n  \"copyrights\" : [ {\\n    \"text\" : \"Subside Records S.r.l., LIZOT under exclusive license to Spinnin\\' Records, \\xc2\\xa9 2022 BLASTERJAXX\",\\n    \"type\" : \"C\"\\n  }, {\\n    \"text\" : \"Subside Records S.r.l., LIZOT under exclusive license to Spinnin\\' Records, \\xe2\\x84\\x97 2022 BLASTERJAXX\",\\n    \"type\" : \"P\"\\n  } ],\\n  \"external_ids\" : {\\n    \"upc\" : \"5054197254376\"\\n  },\\n  \"external_urls\" : {\\n    \"spotify\" : \"https://open.spotify.com/album/00630cytMT6FPwlRSZTqE5\"\\n  },\\n  \"genres\" : [ ],\\n  \"href\" : \"https://api.spotify.com/v1/albums/00630cytMT6FPwlRSZTqE5\",\\n  \"id\" : \"00630cytMT6FPwlRSZTqE5\",\\n  \"images\" : [ {\\n    \"height\" : 640,\\n    \"url\" : \"https://i.scdn.co/image/ab67616d0000b273fcb4ae51417de8d6cdd2c6d8\",\\n    \"width\" : 640\\n  }, {\\n    \"height\" : 300,\\n    \"url\" : \"https://i.scdn.co/image/ab67616d00001e02fcb4ae51417de8d6cdd2c6d8\",\\n    \"width\" : 300\\n  }, {\\n    \"height\" : 64,\\n    \"url\" : \"https://i.scdn.co/image/ab67616d00004851fcb4ae51417de8d6cdd2c6d8\",\\n    \"width\" : 64\\n  } ],\\n  \"label\" : \"Spinnin\\' Records\",\\n  \"name\" : \"Hurricane (feat. SHIBUI) [Festival Mix]\",\\n  \"popularity\" : 46,\\n  \"release_date\" : \"2022-07-29\",\\n  \"release_date_precision\" : \"day\",\\n  \"total_tracks\" : 1,\\n  \"tracks\" : {\\n    \"href\" : \"https://api.spotify.com/v1/albums/00630cytMT6FPwlRSZTqE5/tracks?offset=0&limit=50\",\\n    \"items\" : [ {\\n      \"artists\" : [ {\\n        \"external_urls\" : {\\n          \"spotify\" : \"https://open.spotify.com/artist/37awA8DFCAnCCL7aqYbDnD\"\\n        },\\n        \"href\" : \"https://api.spotify.com/v1/artists/37awA8DFCAnCCL7aqYbDnD\",\\n        \"id\" : \"37awA8DFCAnCCL7aqYbDnD\",\\n        \"name\" : \"Blasterjaxx\",\\n        \"type\" : \"artist\",\\n        \"uri\" : \"spotify:artist:37awA8DFCAnCCL7aqYbDnD\"\\n      }, {\\n        \"external_urls\" : {\\n          \"spotify\" : \"https://open.spotify.com/artist/3iMzbvXlgNUpoFccD60bvr\"\\n        },\\n        \"href\" : \"https://api.spotify.com/v1/artists/3iMzbvXlgNUpoFccD60bvr\",\\n        \"id\" : \"3iMzbvXlgNUpoFccD60bvr\",\\n        \"name\" : \"Prezioso\",\\n        \"type\" : \"artist\",\\n        \"uri\" : \"spotify:artist:3iMzbvXlgNUpoFccD60bvr\"\\n      }, {\\n        \"external_urls\" : {\\n          \"spotify\" : \"https://open.spotify.com/artist/12A83CWwFiyXy90ScLWPIe\"\\n        },\\n        \"href\" : \"https://api.spotify.com/v1/artists/12A83CWwFiyXy90ScLWPIe\",\\n        \"id\" : \"12A83CWwFiyXy90ScLWPIe\",\\n        \"name\" : \"LIZOT\",\\n        \"type\" : \"artist\",\\n        \"uri\" : \"spotify:artist:12A83CWwFiyXy90ScLWPIe\"\\n      }, {\\n        \"external_urls\" : {\\n          \"spotify\" : \"https://open.spotify.com/artist/3DgZk9TPxWee4QgbRpKGF4\"\\n        },\\n        \"href\" : \"https://api.spotify.com/v1/artists/3DgZk9TPxWee4QgbRpKGF4\",\\n        \"id\" : \"3DgZk9TPxWee4QgbRpKGF4\",\\n        \"name\" : \"Shibui\",\\n        \"type\" : \"artist\",\\n        \"uri\" : \"spotify:artist:3DgZk9TPxWee4QgbRpKGF4\"\\n      } ],\\n      \"available_markets\" : [ \"AR\", \"AU\", \"AT\", \"BE\", \"BO\", \"BR\", \"BG\", \"CA\", \"CL\", \"CO\", \"CR\", \"CY\", \"CZ\", \"DK\", \"DO\", \"DE\", \"EC\", \"EE\", \"SV\", \"FI\", \"FR\", \"GR\", \"GT\", \"HN\", \"HK\", \"HU\", \"IS\", \"IE\", \"LV\", \"LT\", \"LU\", \"MY\", \"MT\", \"MX\", \"NL\", \"NZ\", \"NI\", \"NO\", \"PA\", \"PY\", \"PE\", \"PH\", \"PL\", \"PT\", \"SG\", \"SK\", \"ES\", \"SE\", \"CH\", \"TW\", \"TR\", \"UY\", \"US\", \"GB\", \"AD\", \"LI\", \"MC\", \"ID\", \"JP\", \"TH\", \"VN\", \"RO\", \"IL\", \"ZA\", \"SA\", \"AE\", \"BH\", \"QA\", \"OM\", \"KW\", \"EG\", \"MA\", \"DZ\", \"TN\", \"LB\", \"JO\", \"PS\", \"IN\", \"KZ\", \"MD\", \"UA\", \"AL\", \"BA\", \"HR\", \"ME\", \"MK\", \"RS\", \"SI\", \"KR\", \"BD\", \"PK\", \"LK\", \"GH\", \"KE\", \"NG\", \"TZ\", \"UG\", \"AG\", \"AM\", \"BS\", \"BB\", \"BZ\", \"BT\", \"BW\", \"BF\", \"CV\", \"CW\", \"DM\", \"FJ\", \"GM\", \"GE\", \"GD\", \"GW\", \"GY\", \"HT\", \"JM\", \"KI\", \"LS\", \"LR\", \"MW\", \"MV\", \"ML\", \"MH\", \"FM\", \"NA\", \"NR\", \"NE\", \"PW\", \"PG\", \"WS\", \"ST\", \"SN\", \"SC\", \"SL\", \"SB\", \"KN\", \"LC\", \"VC\", \"SR\", \"TL\", \"TO\", \"TT\", \"TV\", \"VU\", \"AZ\", \"BN\", \"BI\", \"KH\", \"CM\", \"TD\", \"KM\", \"GQ\", \"SZ\", \"GA\", \"GN\", \"KG\", \"LA\", \"MO\", \"MR\", \"MN\", \"NP\", \"RW\", \"TG\", \"UZ\", \"ZW\", \"BJ\", \"MG\", \"MU\", \"MZ\", \"AO\", \"CI\", \"DJ\", \"ZM\", \"CD\", \"CG\", \"IQ\", \"LY\", \"TJ\", \"VE\", \"ET\", \"XK\" ],\\n      \"disc_number\" : 1,\\n      \"duration_ms\" : 183115,\\n      \"explicit\" : false,\\n      \"external_urls\" : {\\n        \"spotify\" : \"https://open.spotify.com/track/3oAioabSUIFV7nCLUD2oI4\"\\n      },\\n      \"href\" : \"https://api.spotify.com/v1/tracks/3oAioabSUIFV7nCLUD2oI4\",\\n      \"id\" : \"3oAioabSUIFV7nCLUD2oI4\",\\n      \"is_local\" : false,\\n      \"name\" : \"Hurricane (feat. SHIBUI) - Festival Mix\",\\n      \"preview_url\" : \"https://p.scdn.co/mp3-preview/0bf1289941c6c4c210c50cb167764f87b5fc3f46?cid=1039fa057254437cb819fbcaf3f2d0da\",\\n      \"track_number\" : 1,\\n      \"type\" : \"track\",\\n      \"uri\" : \"spotify:track:3oAioabSUIFV7nCLUD2oI4\"\\n    } ],\\n    \"limit\" : 50,\\n    \"next\" : null,\\n    \"offset\" : 0,\\n    \"previous\" : null,\\n    \"total\" : 1\\n  },\\n  \"type\" : \"album\",\\n  \"uri\" : \"spotify:album:00630cytMT6FPwlRSZTqE5\"\\n}'"
      ]
     },
     "execution_count": 22,
     "metadata": {},
     "output_type": "execute_result"
    }
   ],
   "source": [
    "cover_id = '00630cytMT6FPwlRSZTqE5'\n",
    "album_information= requests.get(\"https://api.spotify.com/v1/albums/%s\"%cover_id, headers=headers).content\n",
    "album_information"
   ]
  },
  {
   "cell_type": "code",
   "execution_count": 23,
   "id": "c4c4bdbb",
   "metadata": {},
   "outputs": [],
   "source": [
    "list_item = []\n",
    "wrong_item = []"
   ]
  },
  {
   "cell_type": "code",
   "execution_count": 24,
   "id": "14fe791a",
   "metadata": {},
   "outputs": [],
   "source": [
    "if album_information == b'Too many requests':\n",
    "    print('hi')"
   ]
  },
  {
   "cell_type": "markdown",
   "id": "814a019a",
   "metadata": {},
   "source": [
    "## ITEM\n",
    "items: [], limit: Next: 'next':, 'offset': , 'previous': , 'total':}}\n",
    "\n",
    "We can get more information setting the data from the playlist:\n",
    "\n",
    "for i in range(0,1500):\n",
    "    search_date=datetime.now()-timedelta(days=1500)\n",
    "    timestamp = str(search_date.strftime(\"%Y-%m-%d\"))\n",
    "\n",
    "    #GET THE PLAYLISTS AVAILABLE FOR EVERY DAY FOR LAST 1500 DAYS\n",
    "    r=json.loads(requests.get(\"https://api.spotify.com/v1/browse/featured-playlists?timestamp=\"+timestamp+\"T00%3A00%3A00&limit=50\",headers=headers).content)\n"
   ]
  },
  {
   "cell_type": "code",
   "execution_count": 25,
   "id": "60f8ad72",
   "metadata": {},
   "outputs": [],
   "source": [
    "append = False\n",
    "concat = True"
   ]
  },
  {
   "cell_type": "code",
   "execution_count": 26,
   "id": "09e5cec1",
   "metadata": {},
   "outputs": [
    {
     "name": "stdout",
     "output_type": "stream",
     "text": [
      "Top Lists\n",
      "Latin\n",
      "Mood\n",
      "Pop\n",
      "Flamenco\n",
      "Chill\n",
      "Rock\n",
      "Workout\n",
      "Hip-Hop\n",
      "Dance/Electronic\n",
      "Focus\n",
      "Indie\n",
      "At Home\n",
      "Alternative\n",
      "Decades\n",
      "Party\n",
      "Romance\n",
      "Folk & Acoustic\n",
      "error step audio_load 'NoneType' object is not subscriptable\n"
     ]
    },
    {
     "name": "stderr",
     "output_type": "stream",
     "text": [
      "\n",
      "KeyboardInterrupt\n",
      "\n"
     ]
    }
   ],
   "source": [
    "# Obtener todas las categorías disponibles en Spotify\n",
    "for itemplay in response[\"categories\"][\"items\"]:\n",
    "    # Obtener las listas de reproducción disponibles dentro de cada categoría\n",
    "    r = requests.get(itemplay[\"href\"] + \"/playlists?limit=50\", headers=headers)\n",
    "    r = json.loads(r.content)\n",
    "    if r == {'error': {'status': 401, 'message': 'The access token expired'}}:\n",
    "        token = token_api(client_id, client_secret)\n",
    "        headers = {\"Content-Type\": \"application/json\", \"Authorization\": \"Bearer %s\" % token, \"Accept\": \"application/json\"}\n",
    "    step ='load'\n",
    "    print(itemplay['name'])\n",
    "    if itemplay['name'] in listss:\n",
    "        continue\n",
    "    try:\n",
    "        while True:\n",
    "            for item in r[\"playlists\"][\"items\"]:\n",
    "                # Obtener las canciones dentro de cada lista de reproducción\n",
    "                r_2 = requests.get(item[\"href\"] + \"/tracks?limit=100\", headers=headers)\n",
    "                r_2 = json.loads(r_2.content)\n",
    "                \n",
    "                if r_2 == {'error': {'status': 401, 'message': 'The access token expired'}}:\n",
    "                    token = token_api(client_id, client_secret)\n",
    "                    headers = {\"Content-Type\": \"application/json\", \"Authorization\": \"Bearer %s\" % token, \"Accept\": \"application/json\"}\n",
    "                    r_2 = requests.get(item[\"href\"] + \"/tracks?limit=100\", headers=headers)\n",
    "                    r_2 = json.loads(r_2.content)\n",
    "                \n",
    "                step ='tracklist_load'\n",
    "                \n",
    "                for item in r_2[\"items\"]:\n",
    "                    time.sleep(1/3)\n",
    "                    try:\n",
    "                        # Para cada canción en la lista de reproducción, verificar si hay una vista previa disponible\n",
    "                        if item[\"track\"][\"preview_url\"] is not None:\n",
    "                            track_id = item[\"track\"][\"id\"]\n",
    "                            cover_id = item[\"track\"][\"album\"][\"id\"]\n",
    "                            step ='image_url'\n",
    "                            image_url = item[\"track\"][\"album\"][\"images\"][0]['url']\n",
    "                            #audio_analysis=json.loads(requests.get(\"https://api.spotify.com/v1/audio-analysis/%s\"%track_id,headers=headers).content)\n",
    "                            \n",
    "                            #print('get album Information')\n",
    "                            step ='getting_album_information'\n",
    "                            album_information = requests.get(\"https://api.spotify.com/v1/albums/%s\"%cover_id,headers=headers).content\n",
    "                            if album_information == b'Too many requests':\n",
    "                                break\n",
    "                            album_information = json.loads(album_information)\n",
    "                            step ='album_information'\n",
    "                            try:\n",
    "                                if 'available_markets' in album_information:\n",
    "                                    del album_information['available_markets']\n",
    "                            except:\n",
    "                                print('None')\n",
    "                                \n",
    "                            audio_features = json.loads(requests.get(\"https://api.spotify.com/v1/audio-features/%s\"%track_id,headers=headers).content)\n",
    "                            step ='audio_features'\n",
    "                            # Agregar los datos al DataFrame\n",
    "                            #print('df_executed')\n",
    "                            if append:\n",
    "                                df = df.append({\"Audio ID\": track_id, \"Cover ID\": cover_id,\n",
    "                                           \"audio_analysis\": itemplay[\"name\"],\n",
    "                                           \"album_information\": album_information,\n",
    "                                           \"audio_features\": audio_features}, ignore_index=True)\n",
    "                            if concat:\n",
    "                                df = pd.concat([df, pd.DataFrame({\"Audio ID\": [track_id],\n",
    "                                                                  \"Cover ID\": [cover_id],\n",
    "                                                                  \"audio_analysis\": [itemplay[\"name\"]],\n",
    "                                                                  \"album_information\": [album_information],\n",
    "                                                                  \"audio_features\": [audio_features]})])\n",
    "                            \n",
    "                            #print('get image')\n",
    "                            r_image = requests.get(image_url, stream=True)\n",
    "                            # Guardar la imagen de portada del álbum\n",
    "                            with open(\"covers_album/%s.jpeg\" % cover_id, 'wb') as f:\n",
    "                                r_image.raw.decode_content = True\n",
    "                                shutil.copyfileobj(r_image.raw, f)\n",
    "                            # Guardar el audio\n",
    "                            step ='image_load'\n",
    "                            #print('get audio')\n",
    "                            mp3 = requests.get(item[\"track\"][\"preview_url\"])\n",
    "                            with open(\"audio_tracks/%s.mp3\" % track_id, 'wb') as f:\n",
    "                                f.write(mp3.content)\n",
    "                            step ='audio_load'\n",
    "                            list_item.append(itemplay[\"href\"])\n",
    "                \n",
    "                    except Exception as e:\n",
    "                        print('error step {} {}'.format(step, e))\n",
    "                        wrong_item.append(item)\n",
    "            try:\n",
    "                if r[\"playlists\"]['next']:\n",
    "                    step ='next_step'\n",
    "                    r = requests.get(itemplay[\"href\"] + \"/playlists?limit=50\", headers=headers)\n",
    "                    r = json.loads(r.content)\n",
    "                else:\n",
    "                    break\n",
    "            except exception as e:\n",
    "                print('error step {} {}'.format(step, e))\n",
    "                break\n",
    "                    \n",
    "    except Exception as e:\n",
    "        print('error step {} {}'.format(step, e))"
   ]
  },
  {
   "cell_type": "code",
   "execution_count": 27,
   "id": "56a24407",
   "metadata": {},
   "outputs": [
    {
     "data": {
      "text/plain": [
       "(42248, 5)"
      ]
     },
     "execution_count": 27,
     "metadata": {},
     "output_type": "execute_result"
    }
   ],
   "source": [
    "df.shape"
   ]
  },
  {
   "cell_type": "code",
   "execution_count": 28,
   "id": "1f8cf68f",
   "metadata": {},
   "outputs": [
    {
     "data": {
      "text/plain": [
       "audio_analysis\n",
       "Focus               5509\n",
       "Romance             3440\n",
       "Chill               3380\n",
       "Decades             2739\n",
       "Mood                2631\n",
       "Indie               2473\n",
       "Folk & Acoustic     2299\n",
       "Latina              2273\n",
       "Pop                 2169\n",
       "At Home             1999\n",
       "Workout             1954\n",
       "Rock                1850\n",
       "Dance/Electronic    1843\n",
       "Alternative         1840\n",
       "Party               1620\n",
       "Latin               1479\n",
       "Hip-Hop             1208\n",
       "Flamenco            1027\n",
       "Listas de éxitos     295\n",
       "Top Lists            220\n",
       "Name: count, dtype: int64"
      ]
     },
     "execution_count": 28,
     "metadata": {},
     "output_type": "execute_result"
    }
   ],
   "source": [
    "df['audio_analysis'].value_counts()"
   ]
  },
  {
   "cell_type": "code",
   "execution_count": 29,
   "id": "454663a2",
   "metadata": {},
   "outputs": [
    {
     "data": {
      "text/plain": [
       "(42248, 5)"
      ]
     },
     "execution_count": 29,
     "metadata": {},
     "output_type": "execute_result"
    }
   ],
   "source": [
    "df.shape"
   ]
  },
  {
   "cell_type": "code",
   "execution_count": 30,
   "id": "a2e6fab0",
   "metadata": {},
   "outputs": [
    {
     "data": {
      "text/plain": [
       "Index(['Audio ID', 'Cover ID', 'audio_analysis', 'album_information',\n",
       "       'audio_features'],\n",
       "      dtype='object')"
      ]
     },
     "execution_count": 30,
     "metadata": {},
     "output_type": "execute_result"
    }
   ],
   "source": [
    "df.columns"
   ]
  },
  {
   "cell_type": "code",
   "execution_count": null,
   "id": "9a742c30",
   "metadata": {
    "scrolled": true
   },
   "outputs": [],
   "source": [
    "df = df.drop_duplicates()"
   ]
  },
  {
   "cell_type": "code",
   "execution_count": 121,
   "id": "fe2d9943",
   "metadata": {},
   "outputs": [
    {
     "ename": "NameError",
     "evalue": "name 'df' is not defined",
     "output_type": "error",
     "traceback": [
      "\u001b[1;31m---------------------------------------------------------------------------\u001b[0m",
      "\u001b[1;31mNameError\u001b[0m                                 Traceback (most recent call last)",
      "Cell \u001b[1;32mIn[121], line 2\u001b[0m\n\u001b[0;32m      1\u001b[0m \u001b[38;5;66;03m# Guardar el DataFrame en un archivo CSV\u001b[39;00m\n\u001b[1;32m----> 2\u001b[0m \u001b[43mdf\u001b[49m\u001b[38;5;241m.\u001b[39mto_csv(\u001b[38;5;124m\"\u001b[39m\u001b[38;5;124maudio_and_covers 6.64.csv\u001b[39m\u001b[38;5;124m\"\u001b[39m, index\u001b[38;5;241m=\u001b[39m\u001b[38;5;28;01mFalse\u001b[39;00m)\n\u001b[0;32m      3\u001b[0m df\u001b[38;5;241m.\u001b[39mto_pickle(\u001b[38;5;124m'\u001b[39m\u001b[38;5;124maudio_and_covers 6.64.pkl\u001b[39m\u001b[38;5;124m'\u001b[39m)\n",
      "\u001b[1;31mNameError\u001b[0m: name 'df' is not defined"
     ]
    }
   ],
   "source": [
    "# Guardar el DataFrame en un archivo CSV\n",
    "df.to_csv(\"audio_and_covers 6.7.csv\", index=False)\n",
    "df.to_pickle('audio_and_covers 6.7.pkl')"
   ]
  },
  {
   "cell_type": "code",
   "execution_count": 123,
   "id": "4319b899",
   "metadata": {},
   "outputs": [],
   "source": [
    "import json"
   ]
  },
  {
   "cell_type": "code",
   "execution_count": 124,
   "id": "a29274fc",
   "metadata": {},
   "outputs": [],
   "source": [
    "dataSpotify = pd.read_pickle('./audio_and_covers 6.64.pkl')\n",
    "dataSpotify.shape"
   ]
  },
  {
   "cell_type": "code",
   "execution_count": 127,
   "id": "6ccbe3ba",
   "metadata": {},
   "outputs": [
    {
     "name": "stdout",
     "output_type": "stream",
     "text": [
      "(41220, 5)\n",
      "(41220, 5)\n",
      "(41220, 5)\n"
     ]
    }
   ],
   "source": [
    "error_status = \"{'error': {'status': 429}}\"\n",
    "error_token = \"{'error': {'status': 401, 'message': 'The access token expired'}}\"\n",
    "error_analysis = \"{'error': {'status': 404, 'message': 'analysis not found'}}\"\n",
    "\n",
    "dataSpotify = dataSpotify[-(dataSpotify['audio_features'] == error_token)]\n",
    "dataSpotify = dataSpotify[-(dataSpotify['audio_features'] == error_status)]\n",
    "dataSpotify = dataSpotify[-(dataSpotify['audio_features'] == error_analysis)]\n",
    "print(dataSpotify.shape)\n",
    "\n",
    "dataSpotify = dataSpotify[-(dataSpotify['album_information'] == error_token)]\n",
    "dataSpotify = dataSpotify[-(dataSpotify['album_information'] == error_status)]\n",
    "dataSpotify = dataSpotify[-(dataSpotify['album_information'] == error_analysis)]\n",
    "print(dataSpotify.shape)\n",
    "\n",
    "dataSpotify = dataSpotify[-(dataSpotify['audio_analysis'] == error_token)]\n",
    "dataSpotify = dataSpotify[-(dataSpotify['audio_analysis'] == error_status)]\n",
    "dataSpotify = dataSpotify[-(dataSpotify['audio_analysis'] == error_analysis)]\n",
    "print(dataSpotify.shape)"
   ]
  },
  {
   "cell_type": "code",
   "execution_count": 128,
   "id": "7df3c033",
   "metadata": {},
   "outputs": [
    {
     "data": {
      "text/plain": [
       "(20109, 5)"
      ]
     },
     "execution_count": 128,
     "metadata": {},
     "output_type": "execute_result"
    }
   ],
   "source": [
    "dataSpotify = dataSpotify.drop_duplicates(subset=['Cover ID'])\n",
    "dataSpotify.shape"
   ]
  },
  {
   "cell_type": "code",
   "execution_count": 129,
   "id": "2d484b96",
   "metadata": {},
   "outputs": [],
   "source": [
    "import ast"
   ]
  },
  {
   "cell_type": "code",
   "execution_count": 130,
   "id": "e3c836f5",
   "metadata": {},
   "outputs": [],
   "source": [
    "dataSpotify['name'] = None\n",
    "dataSpotify['release_date'] = None\n",
    "dataSpotify['prompt'] = None\n",
    "dataSpotify['embedding'] = None"
   ]
  },
  {
   "cell_type": "code",
   "execution_count": 132,
   "id": "a1fdd87e",
   "metadata": {},
   "outputs": [
    {
     "data": {
      "text/plain": [
       "release_date\n",
       "2023-05-18    1130\n",
       "2023-06-02     178\n",
       "2023-06-16     169\n",
       "2023-04-14     165\n",
       "2023-05-05     162\n",
       "              ... \n",
       "1994-09-19       1\n",
       "1995-05-02       1\n",
       "1992-04-02       1\n",
       "1997-06-20       1\n",
       "2005-06-01       1\n",
       "Name: count, Length: 4413, dtype: int64"
      ]
     },
     "execution_count": 132,
     "metadata": {},
     "output_type": "execute_result"
    }
   ],
   "source": [
    "dataSpotify['release_date'].value_counts()"
   ]
  },
  {
   "cell_type": "code",
   "execution_count": 131,
   "id": "9b2606ed",
   "metadata": {
    "scrolled": true
   },
   "outputs": [
    {
     "name": "stdout",
     "output_type": "stream",
     "text": [
      "'NoneType' object has no attribute 'get'\n"
     ]
    },
    {
     "name": "stderr",
     "output_type": "stream",
     "text": [
      "IOPub data rate exceeded.\n",
      "The notebook server will temporarily stop sending output\n",
      "to the client in order to avoid crashing it.\n",
      "To change this limit, set the config variable\n",
      "`--NotebookApp.iopub_data_rate_limit`.\n",
      "\n",
      "Current values:\n",
      "NotebookApp.iopub_data_rate_limit=1000000.0 (bytes/sec)\n",
      "NotebookApp.rate_limit_window=3.0 (secs)\n",
      "\n"
     ]
    }
   ],
   "source": [
    "for iterator, row in dataSpotify.iterrows():\n",
    "    try:\n",
    "        album_info = ast.literal_eval(row['album_information'])\n",
    "                \n",
    "        name = album_info.get('name')\n",
    "        release_date = album_info.get('release_date')\n",
    "        items = [artist.get('artists')[0] for artist in album_info.get('tracks').get('items')]\n",
    "        items = list(set([item.get('name') for item in items]))\n",
    "\n",
    "        prompt = ''\n",
    "        for item in items:\n",
    "            prompt += item + ' '\n",
    "            \n",
    "        prompt = prompt.strip()\n",
    "\n",
    "        audio_features = ast.literal_eval(row['audio_features'])\n",
    "        embedding = '{},{},{},{},{},{},{},{},{},{},{}'.format(\n",
    "            audio_features.get('danceability'),\n",
    "            audio_features.get('energy'),\n",
    "            audio_features.get('key'),\n",
    "            audio_features.get('loudness'),\n",
    "            audio_features.get('mode'),\n",
    "            audio_features.get('speechiness'),\n",
    "            audio_features.get('acousticness'),\n",
    "            audio_features.get('instrumentalness'),\n",
    "            audio_features.get('liveness'),\n",
    "            audio_features.get('valence'),\n",
    "            audio_features.get('tempo')\n",
    "        )\n",
    "        \n",
    "        dataSpotify.at[iterator, 'name'] = name\n",
    "        dataSpotify.at[iterator, 'release_date'] = release_date\n",
    "        dataSpotify.at[iterator, 'prompt'] = prompt\n",
    "        dataSpotify.at[iterator, 'embedding'] = embedding\n",
    "\n",
    "    except Exception as e:\n",
    "        print(iterator, e)"
   ]
  },
  {
   "cell_type": "code",
   "execution_count": 133,
   "id": "625a6c61",
   "metadata": {},
   "outputs": [],
   "source": [
    "dataSpotify.to_pickle('./spotify_dataset.pkl')"
   ]
  },
  {
   "cell_type": "code",
   "execution_count": 134,
   "id": "e814884d",
   "metadata": {},
   "outputs": [],
   "source": [
    "dataSpotify.to_csv('./spotify_dataset.csv')"
   ]
  },
  {
   "cell_type": "code",
   "execution_count": 1,
   "id": "9c52fb87",
   "metadata": {},
   "outputs": [],
   "source": []
  },
  {
   "cell_type": "code",
   "execution_count": 3,
   "id": "be4d9b6c",
   "metadata": {},
   "outputs": [],
   "source": [
    "dataSpotify = pd.read_csv('./spotify_dataset.csv')"
   ]
  },
  {
   "cell_type": "code",
   "execution_count": 5,
   "id": "9e0ba2ae",
   "metadata": {},
   "outputs": [
    {
     "data": {
      "text/html": [
       "<div>\n",
       "<style scoped>\n",
       "    .dataframe tbody tr th:only-of-type {\n",
       "        vertical-align: middle;\n",
       "    }\n",
       "\n",
       "    .dataframe tbody tr th {\n",
       "        vertical-align: top;\n",
       "    }\n",
       "\n",
       "    .dataframe thead th {\n",
       "        text-align: right;\n",
       "    }\n",
       "</style>\n",
       "<table border=\"1\" class=\"dataframe\">\n",
       "  <thead>\n",
       "    <tr style=\"text-align: right;\">\n",
       "      <th></th>\n",
       "      <th>Unnamed: 0</th>\n",
       "      <th>Audio ID</th>\n",
       "      <th>Cover ID</th>\n",
       "      <th>audio_analysis</th>\n",
       "      <th>album_information</th>\n",
       "      <th>audio_features</th>\n",
       "      <th>name</th>\n",
       "      <th>release_date</th>\n",
       "      <th>prompt</th>\n",
       "      <th>embedding</th>\n",
       "    </tr>\n",
       "  </thead>\n",
       "  <tbody>\n",
       "    <tr>\n",
       "      <th>0</th>\n",
       "      <td>0</td>\n",
       "      <td>7ro0hRteUMfnOioTFI5TG1</td>\n",
       "      <td>5gCcb5fsSb6w5K8SyJrgtB</td>\n",
       "      <td>Top Lists</td>\n",
       "      <td>{'album_type': 'single', 'artists': [{'externa...</td>\n",
       "      <td>{'danceability': 0.652, 'energy': 0.8, 'key': ...</td>\n",
       "      <td>WHERE SHE GOES</td>\n",
       "      <td>2023-05-18</td>\n",
       "      <td>Bad Bunny</td>\n",
       "      <td>0.652,0.8,9,-4.019,0,0.0614,0.143,0.629,0.112,...</td>\n",
       "    </tr>\n",
       "    <tr>\n",
       "      <th>1</th>\n",
       "      <td>1</td>\n",
       "      <td>5AqiaZwhmC6dIbgWrD5SzV</td>\n",
       "      <td>5dKPhEYBhP8j85HcxQfaw6</td>\n",
       "      <td>Top Lists</td>\n",
       "      <td>{'album_type': 'single', 'artists': [{'externa...</td>\n",
       "      <td>{'danceability': 0.854, 'energy': 0.668, 'key'...</td>\n",
       "      <td>Peso Pluma: Bzrp Music Sessions, Vol. 55</td>\n",
       "      <td>2023-06-01</td>\n",
       "      <td>Bizarrap</td>\n",
       "      <td>0.854,0.668,5,-7.848,0,0.0466,0.264,5.61e-05,0...</td>\n",
       "    </tr>\n",
       "    <tr>\n",
       "      <th>2</th>\n",
       "      <td>2</td>\n",
       "      <td>7txjUEY6McJDJKqIo1Rxjp</td>\n",
       "      <td>4ZQmQzeicvUGkLxFTI2Dvd</td>\n",
       "      <td>Top Lists</td>\n",
       "      <td>{'album_type': 'single', 'artists': [{'externa...</td>\n",
       "      <td>{'danceability': 0.748, 'energy': 0.478, 'key'...</td>\n",
       "      <td>Acróstico</td>\n",
       "      <td>2023-05-11</td>\n",
       "      <td>Shakira</td>\n",
       "      <td>0.748,0.478,11,-8.886,1,0.121,0.837,0,0.099,0....</td>\n",
       "    </tr>\n",
       "    <tr>\n",
       "      <th>3</th>\n",
       "      <td>3</td>\n",
       "      <td>0zY2rypOdM8xmsf4tUyafF</td>\n",
       "      <td>5jVewtOpycGENT1zZW4wpR</td>\n",
       "      <td>Top Lists</td>\n",
       "      <td>{'album_type': 'single', 'artists': [{'externa...</td>\n",
       "      <td>{'danceability': 0.725, 'energy': 0.743, 'key'...</td>\n",
       "      <td>Supernova</td>\n",
       "      <td>2023-04-19</td>\n",
       "      <td>Saiko</td>\n",
       "      <td>0.725,0.743,10,-4.185,0,0.148,0.256,0,0.0934,0...</td>\n",
       "    </tr>\n",
       "    <tr>\n",
       "      <th>4</th>\n",
       "      <td>4</td>\n",
       "      <td>26V1bLUk0SBYkLEwl4caPR</td>\n",
       "      <td>04EvopsobNB5TNIzzAp0w0</td>\n",
       "      <td>Top Lists</td>\n",
       "      <td>{'album_type': 'single', 'artists': [{'externa...</td>\n",
       "      <td>{'danceability': 0.863, 'energy': 0.664, 'key'...</td>\n",
       "      <td>Clavaito</td>\n",
       "      <td>2023-04-27</td>\n",
       "      <td>Chanel</td>\n",
       "      <td>0.863,0.664,3,-3.902,0,0.0666,0.0427,0,0.0501,...</td>\n",
       "    </tr>\n",
       "    <tr>\n",
       "      <th>5</th>\n",
       "      <td>5</td>\n",
       "      <td>51FvjPEGKq2zByeeEQ43V9</td>\n",
       "      <td>6sU751LOdNBPvVErW1GunP</td>\n",
       "      <td>Top Lists</td>\n",
       "      <td>{'album_type': 'single', 'artists': [{'externa...</td>\n",
       "      <td>{'danceability': 0.775, 'energy': 0.677, 'key'...</td>\n",
       "      <td>El Merengue</td>\n",
       "      <td>2023-03-03</td>\n",
       "      <td>Marshmello</td>\n",
       "      <td>0.775,0.677,8,-4.703,0,0.0442,0.0313,0.00517,0...</td>\n",
       "    </tr>\n",
       "    <tr>\n",
       "      <th>6</th>\n",
       "      <td>6</td>\n",
       "      <td>3qQbCzHBycnDpGskqOWY0E</td>\n",
       "      <td>5aDEezKnOqyQo0qvTFhpkM</td>\n",
       "      <td>Top Lists</td>\n",
       "      <td>{'album_type': 'album', 'artists': [{'external...</td>\n",
       "      <td>{'danceability': 0.668, 'energy': 0.758, 'key'...</td>\n",
       "      <td>DESVELADO</td>\n",
       "      <td>2023-04-28</td>\n",
       "      <td>Eslabon Armado</td>\n",
       "      <td>0.668,0.758,5,-5.176,0,0.0332,0.483,1.89e-05,0...</td>\n",
       "    </tr>\n",
       "    <tr>\n",
       "      <th>7</th>\n",
       "      <td>7</td>\n",
       "      <td>609E1JCInJncactoMmkDon</td>\n",
       "      <td>50uChhk7AKkzDKytDixjYW</td>\n",
       "      <td>Top Lists</td>\n",
       "      <td>{'album_type': 'single', 'artists': [{'externa...</td>\n",
       "      <td>{'danceability': 0.768, 'energy': 0.644, 'key'...</td>\n",
       "      <td>RR</td>\n",
       "      <td>2023-03-24</td>\n",
       "      <td>ROSALÍA</td>\n",
       "      <td>0.768,0.644,5,-6.671,0,0.136,0.736,0.000837,0....</td>\n",
       "    </tr>\n",
       "    <tr>\n",
       "      <th>8</th>\n",
       "      <td>8</td>\n",
       "      <td>20CozgjF6bshBw8cLhN23B</td>\n",
       "      <td>4uCz8u5i2bIYVUOSRdtr6v</td>\n",
       "      <td>Top Lists</td>\n",
       "      <td>{'album_type': 'single', 'artists': [{'externa...</td>\n",
       "      <td>{'danceability': 0.802, 'energy': 0.728, 'key'...</td>\n",
       "      <td>Nochentera</td>\n",
       "      <td>2022-12-19</td>\n",
       "      <td>Vicco</td>\n",
       "      <td>0.802,0.728,8,-6.456,0,0.0533,0.0233,0,0.119,0...</td>\n",
       "    </tr>\n",
       "    <tr>\n",
       "      <th>9</th>\n",
       "      <td>9</td>\n",
       "      <td>2UW7JaomAMuX9pZrjVpHAU</td>\n",
       "      <td>6aBVGuOUEuX18rHxyDWbti</td>\n",
       "      <td>Top Lists</td>\n",
       "      <td>{'album_type': 'single', 'artists': [{'externa...</td>\n",
       "      <td>{'danceability': 0.812, 'energy': 0.479, 'key'...</td>\n",
       "      <td>La Bebe (Remix)</td>\n",
       "      <td>2023-03-17</td>\n",
       "      <td>Yng Lvcas</td>\n",
       "      <td>0.812,0.479,2,-5.678,0,0.333,0.213,1.21e-06,0....</td>\n",
       "    </tr>\n",
       "  </tbody>\n",
       "</table>\n",
       "</div>"
      ],
      "text/plain": [
       "   Unnamed: 0                Audio ID                Cover ID audio_analysis  \\\n",
       "0           0  7ro0hRteUMfnOioTFI5TG1  5gCcb5fsSb6w5K8SyJrgtB      Top Lists   \n",
       "1           1  5AqiaZwhmC6dIbgWrD5SzV  5dKPhEYBhP8j85HcxQfaw6      Top Lists   \n",
       "2           2  7txjUEY6McJDJKqIo1Rxjp  4ZQmQzeicvUGkLxFTI2Dvd      Top Lists   \n",
       "3           3  0zY2rypOdM8xmsf4tUyafF  5jVewtOpycGENT1zZW4wpR      Top Lists   \n",
       "4           4  26V1bLUk0SBYkLEwl4caPR  04EvopsobNB5TNIzzAp0w0      Top Lists   \n",
       "5           5  51FvjPEGKq2zByeeEQ43V9  6sU751LOdNBPvVErW1GunP      Top Lists   \n",
       "6           6  3qQbCzHBycnDpGskqOWY0E  5aDEezKnOqyQo0qvTFhpkM      Top Lists   \n",
       "7           7  609E1JCInJncactoMmkDon  50uChhk7AKkzDKytDixjYW      Top Lists   \n",
       "8           8  20CozgjF6bshBw8cLhN23B  4uCz8u5i2bIYVUOSRdtr6v      Top Lists   \n",
       "9           9  2UW7JaomAMuX9pZrjVpHAU  6aBVGuOUEuX18rHxyDWbti      Top Lists   \n",
       "\n",
       "                                   album_information  \\\n",
       "0  {'album_type': 'single', 'artists': [{'externa...   \n",
       "1  {'album_type': 'single', 'artists': [{'externa...   \n",
       "2  {'album_type': 'single', 'artists': [{'externa...   \n",
       "3  {'album_type': 'single', 'artists': [{'externa...   \n",
       "4  {'album_type': 'single', 'artists': [{'externa...   \n",
       "5  {'album_type': 'single', 'artists': [{'externa...   \n",
       "6  {'album_type': 'album', 'artists': [{'external...   \n",
       "7  {'album_type': 'single', 'artists': [{'externa...   \n",
       "8  {'album_type': 'single', 'artists': [{'externa...   \n",
       "9  {'album_type': 'single', 'artists': [{'externa...   \n",
       "\n",
       "                                      audio_features  \\\n",
       "0  {'danceability': 0.652, 'energy': 0.8, 'key': ...   \n",
       "1  {'danceability': 0.854, 'energy': 0.668, 'key'...   \n",
       "2  {'danceability': 0.748, 'energy': 0.478, 'key'...   \n",
       "3  {'danceability': 0.725, 'energy': 0.743, 'key'...   \n",
       "4  {'danceability': 0.863, 'energy': 0.664, 'key'...   \n",
       "5  {'danceability': 0.775, 'energy': 0.677, 'key'...   \n",
       "6  {'danceability': 0.668, 'energy': 0.758, 'key'...   \n",
       "7  {'danceability': 0.768, 'energy': 0.644, 'key'...   \n",
       "8  {'danceability': 0.802, 'energy': 0.728, 'key'...   \n",
       "9  {'danceability': 0.812, 'energy': 0.479, 'key'...   \n",
       "\n",
       "                                       name release_date          prompt  \\\n",
       "0                            WHERE SHE GOES   2023-05-18       Bad Bunny   \n",
       "1  Peso Pluma: Bzrp Music Sessions, Vol. 55   2023-06-01        Bizarrap   \n",
       "2                                 Acróstico   2023-05-11         Shakira   \n",
       "3                                 Supernova   2023-04-19           Saiko   \n",
       "4                                  Clavaito   2023-04-27          Chanel   \n",
       "5                               El Merengue   2023-03-03      Marshmello   \n",
       "6                                 DESVELADO   2023-04-28  Eslabon Armado   \n",
       "7                                        RR   2023-03-24         ROSALÍA   \n",
       "8                                Nochentera   2022-12-19           Vicco   \n",
       "9                           La Bebe (Remix)   2023-03-17       Yng Lvcas   \n",
       "\n",
       "                                           embedding  \n",
       "0  0.652,0.8,9,-4.019,0,0.0614,0.143,0.629,0.112,...  \n",
       "1  0.854,0.668,5,-7.848,0,0.0466,0.264,5.61e-05,0...  \n",
       "2  0.748,0.478,11,-8.886,1,0.121,0.837,0,0.099,0....  \n",
       "3  0.725,0.743,10,-4.185,0,0.148,0.256,0,0.0934,0...  \n",
       "4  0.863,0.664,3,-3.902,0,0.0666,0.0427,0,0.0501,...  \n",
       "5  0.775,0.677,8,-4.703,0,0.0442,0.0313,0.00517,0...  \n",
       "6  0.668,0.758,5,-5.176,0,0.0332,0.483,1.89e-05,0...  \n",
       "7  0.768,0.644,5,-6.671,0,0.136,0.736,0.000837,0....  \n",
       "8  0.802,0.728,8,-6.456,0,0.0533,0.0233,0,0.119,0...  \n",
       "9  0.812,0.479,2,-5.678,0,0.333,0.213,1.21e-06,0....  "
      ]
     },
     "execution_count": 5,
     "metadata": {},
     "output_type": "execute_result"
    }
   ],
   "source": [
    "dataSpotify.head(10)"
   ]
  }
 ],
 "metadata": {
  "kernelspec": {
   "display_name": "Python 3 (ipykernel)",
   "language": "python",
   "name": "python3"
  },
  "language_info": {
   "codemirror_mode": {
    "name": "ipython",
    "version": 3
   },
   "file_extension": ".py",
   "mimetype": "text/x-python",
   "name": "python",
   "nbconvert_exporter": "python",
   "pygments_lexer": "ipython3",
   "version": "3.11.1"
  }
 },
 "nbformat": 4,
 "nbformat_minor": 5
}
